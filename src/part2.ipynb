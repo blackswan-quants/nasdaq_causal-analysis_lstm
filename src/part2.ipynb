{
 "cells": [
  {
   "cell_type": "code",
   "execution_count": 4,
   "metadata": {},
   "outputs": [],
   "source": [
    "import os\n",
    "import pickle\n",
    "import numpy as np\n",
    "import pandas as pd\n",
    "import matplotlib.pyplot as plt\n",
    "\n",
    "from sklearn.preprocessing import StandardScaler\n",
    "from sklearn.metrics import mean_squared_error, mean_absolute_error, r2_score\n",
    "\n",
    "from tensorflow.keras.models import Sequential\n",
    "from tensorflow.keras.layers import LSTM, Dense, Dropout\n",
    "from tensorflow.keras.preprocessing.sequence import TimeseriesGenerator\n",
    "from tensorflow.keras.optimizers import Adam\n",
    "from tensorflow.keras.callbacks import EarlyStopping\n"
   ]
  },
  {
   "cell_type": "code",
   "execution_count": null,
   "metadata": {},
   "outputs": [],
   "source": [
    "\n",
    "import pickle\n",
    "with open('data/pickle_files/final_dataframe.pkl', 'rb') as file:\n",
    "    df = pickle.load(file)"
   ]
  },
  {
   "cell_type": "code",
   "execution_count": 3,
   "metadata": {},
   "outputs": [
    {
     "data": {
      "application/vnd.microsoft.datawrangler.viewer.v0+json": {
       "columns": [
        {
         "name": "index",
         "rawType": "datetime64[ns]",
         "type": "datetime"
        },
        {
         "name": "CTSH",
         "rawType": "float64",
         "type": "float"
        },
        {
         "name": "correlation",
         "rawType": "float64",
         "type": "float"
        },
        {
         "name": "SIRI",
         "rawType": "float64",
         "type": "float"
        }
       ],
       "conversionMethod": "pd.DataFrame",
       "ref": "79712188-34c8-4d38-a055-be5b1a03e8df",
       "rows": [
        [
         "2024-02-26 09:45:00",
         "78.93",
         null,
         "4.5735"
        ],
        [
         "2024-02-26 09:46:00",
         "78.93",
         null,
         "4.5735"
        ],
        [
         "2024-02-26 09:47:00",
         "78.93",
         null,
         "4.5735"
        ],
        [
         "2024-02-26 09:48:00",
         "78.93",
         null,
         "4.5735"
        ],
        [
         "2024-02-26 09:49:00",
         "78.93",
         null,
         "4.5735"
        ],
        [
         "2024-02-26 09:50:00",
         "78.93",
         null,
         "4.5735"
        ],
        [
         "2024-02-26 09:51:00",
         "78.93",
         null,
         "4.5735"
        ],
        [
         "2024-02-26 09:52:00",
         "78.93",
         null,
         "4.5735"
        ],
        [
         "2024-02-26 09:53:00",
         "78.93",
         null,
         "4.5735"
        ],
        [
         "2024-02-26 09:54:00",
         "78.93",
         null,
         "4.5735"
        ],
        [
         "2024-02-26 09:55:00",
         "78.93",
         null,
         "4.5735"
        ],
        [
         "2024-02-26 09:56:00",
         "78.93",
         null,
         "4.5735"
        ],
        [
         "2024-02-26 09:57:00",
         "78.93",
         null,
         "4.5735"
        ],
        [
         "2024-02-26 09:58:00",
         "78.93",
         null,
         "4.5735"
        ],
        [
         "2024-02-26 09:59:00",
         "78.93",
         null,
         "4.5735"
        ],
        [
         "2024-02-26 10:00:00",
         "78.93",
         null,
         "4.5735"
        ],
        [
         "2024-02-26 10:01:00",
         "78.93",
         null,
         "4.5735"
        ],
        [
         "2024-02-26 10:02:00",
         "78.93",
         null,
         "4.5735"
        ],
        [
         "2024-02-26 10:03:00",
         "78.93",
         null,
         "4.5735"
        ],
        [
         "2024-02-26 10:04:00",
         "78.93",
         null,
         "4.5735"
        ],
        [
         "2024-02-26 10:05:00",
         "78.93",
         null,
         "4.5735"
        ],
        [
         "2024-02-26 10:06:00",
         "78.93",
         null,
         "4.5735"
        ],
        [
         "2024-02-26 10:07:00",
         "78.93",
         null,
         "4.5735"
        ],
        [
         "2024-02-26 10:08:00",
         "78.93",
         null,
         "4.5735"
        ],
        [
         "2024-02-26 10:09:00",
         "78.93",
         null,
         "4.5735"
        ],
        [
         "2024-02-26 10:10:00",
         "78.93",
         null,
         "4.5735"
        ],
        [
         "2024-02-26 10:11:00",
         "78.93",
         null,
         "4.5735"
        ],
        [
         "2024-02-26 10:12:00",
         "78.93",
         null,
         "4.5735"
        ],
        [
         "2024-02-26 10:13:00",
         "78.93",
         null,
         "4.5735"
        ],
        [
         "2024-02-26 10:14:00",
         "78.93",
         null,
         "4.5735"
        ],
        [
         "2024-02-26 10:15:00",
         "78.93",
         null,
         "4.5735"
        ],
        [
         "2024-02-26 10:16:00",
         "78.93",
         null,
         "4.5735"
        ],
        [
         "2024-02-26 10:17:00",
         "78.93",
         null,
         "4.5735"
        ],
        [
         "2024-02-26 10:18:00",
         "78.93",
         null,
         "4.5735"
        ],
        [
         "2024-02-26 10:19:00",
         "78.93",
         null,
         "4.5735"
        ],
        [
         "2024-02-26 10:20:00",
         "78.93",
         null,
         "4.5735"
        ],
        [
         "2024-02-26 10:21:00",
         "78.93",
         null,
         "4.5735"
        ],
        [
         "2024-02-26 10:22:00",
         "78.93",
         null,
         "4.5735"
        ],
        [
         "2024-02-26 10:23:00",
         "78.93",
         null,
         "4.5735"
        ],
        [
         "2024-02-26 10:24:00",
         "78.93",
         null,
         "4.5735"
        ],
        [
         "2024-02-26 10:25:00",
         "78.93",
         null,
         "4.5735"
        ],
        [
         "2024-02-26 10:26:00",
         "78.93",
         null,
         "4.5735"
        ],
        [
         "2024-02-26 10:27:00",
         "78.93",
         null,
         "4.5735"
        ],
        [
         "2024-02-26 10:28:00",
         "78.93",
         null,
         "4.5735"
        ],
        [
         "2024-02-26 10:29:00",
         "78.93",
         null,
         "4.5735"
        ],
        [
         "2024-02-26 10:30:00",
         "78.93",
         null,
         "4.5735"
        ],
        [
         "2024-02-26 10:31:00",
         "78.93",
         null,
         "4.5735"
        ],
        [
         "2024-02-26 10:32:00",
         "78.93",
         null,
         "4.5735"
        ],
        [
         "2024-02-26 10:33:00",
         "78.93",
         null,
         "4.5735"
        ],
        [
         "2024-02-26 10:34:00",
         "78.93",
         null,
         "4.5735"
        ]
       ],
       "shape": {
        "columns": 3,
        "rows": 17432
       }
      },
      "text/html": [
       "<div>\n",
       "<style scoped>\n",
       "    .dataframe tbody tr th:only-of-type {\n",
       "        vertical-align: middle;\n",
       "    }\n",
       "\n",
       "    .dataframe tbody tr th {\n",
       "        vertical-align: top;\n",
       "    }\n",
       "\n",
       "    .dataframe thead th {\n",
       "        text-align: right;\n",
       "    }\n",
       "</style>\n",
       "<table border=\"1\" class=\"dataframe\">\n",
       "  <thead>\n",
       "    <tr style=\"text-align: right;\">\n",
       "      <th></th>\n",
       "      <th>CTSH</th>\n",
       "      <th>correlation</th>\n",
       "      <th>SIRI</th>\n",
       "    </tr>\n",
       "  </thead>\n",
       "  <tbody>\n",
       "    <tr>\n",
       "      <th>2024-02-26 09:45:00</th>\n",
       "      <td>78.93</td>\n",
       "      <td>NaN</td>\n",
       "      <td>4.5735</td>\n",
       "    </tr>\n",
       "    <tr>\n",
       "      <th>2024-02-26 09:46:00</th>\n",
       "      <td>78.93</td>\n",
       "      <td>NaN</td>\n",
       "      <td>4.5735</td>\n",
       "    </tr>\n",
       "    <tr>\n",
       "      <th>2024-02-26 09:47:00</th>\n",
       "      <td>78.93</td>\n",
       "      <td>NaN</td>\n",
       "      <td>4.5735</td>\n",
       "    </tr>\n",
       "    <tr>\n",
       "      <th>2024-02-26 09:48:00</th>\n",
       "      <td>78.93</td>\n",
       "      <td>NaN</td>\n",
       "      <td>4.5735</td>\n",
       "    </tr>\n",
       "    <tr>\n",
       "      <th>2024-02-26 09:49:00</th>\n",
       "      <td>78.93</td>\n",
       "      <td>NaN</td>\n",
       "      <td>4.5735</td>\n",
       "    </tr>\n",
       "    <tr>\n",
       "      <th>...</th>\n",
       "      <td>...</td>\n",
       "      <td>...</td>\n",
       "      <td>...</td>\n",
       "    </tr>\n",
       "    <tr>\n",
       "      <th>2024-04-08 15:34:00</th>\n",
       "      <td>67.83</td>\n",
       "      <td>1.0</td>\n",
       "      <td>3.1800</td>\n",
       "    </tr>\n",
       "    <tr>\n",
       "      <th>2024-04-08 15:24:00</th>\n",
       "      <td>67.83</td>\n",
       "      <td>1.0</td>\n",
       "      <td>3.1800</td>\n",
       "    </tr>\n",
       "    <tr>\n",
       "      <th>2024-04-08 15:21:00</th>\n",
       "      <td>67.83</td>\n",
       "      <td>1.0</td>\n",
       "      <td>3.1800</td>\n",
       "    </tr>\n",
       "    <tr>\n",
       "      <th>2024-02-26 15:27:00</th>\n",
       "      <td>67.83</td>\n",
       "      <td>1.0</td>\n",
       "      <td>3.1800</td>\n",
       "    </tr>\n",
       "    <tr>\n",
       "      <th>2024-02-26 15:25:00</th>\n",
       "      <td>67.83</td>\n",
       "      <td>1.0</td>\n",
       "      <td>3.1800</td>\n",
       "    </tr>\n",
       "  </tbody>\n",
       "</table>\n",
       "<p>17432 rows × 3 columns</p>\n",
       "</div>"
      ],
      "text/plain": [
       "                      CTSH  correlation    SIRI\n",
       "2024-02-26 09:45:00  78.93          NaN  4.5735\n",
       "2024-02-26 09:46:00  78.93          NaN  4.5735\n",
       "2024-02-26 09:47:00  78.93          NaN  4.5735\n",
       "2024-02-26 09:48:00  78.93          NaN  4.5735\n",
       "2024-02-26 09:49:00  78.93          NaN  4.5735\n",
       "...                    ...          ...     ...\n",
       "2024-04-08 15:34:00  67.83          1.0  3.1800\n",
       "2024-04-08 15:24:00  67.83          1.0  3.1800\n",
       "2024-04-08 15:21:00  67.83          1.0  3.1800\n",
       "2024-02-26 15:27:00  67.83          1.0  3.1800\n",
       "2024-02-26 15:25:00  67.83          1.0  3.1800\n",
       "\n",
       "[17432 rows x 3 columns]"
      ]
     },
     "execution_count": 3,
     "metadata": {},
     "output_type": "execute_result"
    }
   ],
   "source": [
    "df"
   ]
  },
  {
   "cell_type": "code",
   "execution_count": 4,
   "metadata": {},
   "outputs": [],
   "source": [
    "\n",
    "\n",
    "def prepare_lstm_data(df, input_sequence_length=60, batch_size=32, split_fraction=0.7):\n",
    "    \"\"\"\n",
    "    Prepare data for an LSTM model using stock_1 and correlation as features,\n",
    "    and stock_2 as the target.\n",
    "\n",
    "    Args:\n",
    "        df (DataFrame): Input DataFrame with columns ['AdjClose_Stock_1', 'AdjClose_Stock_2', 'Rolling_Correlation_Coefficient'].\n",
    "        input_sequence_length (int): Number of past time steps to use as input.\n",
    "        batch_size (int): Batch size for the TimeseriesGenerator.\n",
    "        split_fraction (float): Fraction of data to use for training.\n",
    "\n",
    "    Returns:\n",
    "        train_dataset (TimeseriesGenerator): Training data generator.\n",
    "        test_dataset (TimeseriesGenerator): Testing data generator.\n",
    "        scaler_features (StandardScaler): Scaler used for normalizing the input features.\n",
    "        scaler_target (StandardScaler): Scaler used for normalizing the target values.\n",
    "    \"\"\"\n",
    "    # Ensure required columns are present in the DataFrame\n",
    "    required_columns = ['CTSH', 'SIRI', 'correlation']\n",
    "    for col in required_columns:\n",
    "        if col not in df.columns:\n",
    "            raise ValueError(f\"Missing required column: {col}\")\n",
    "\n",
    "    # Extract the columns\n",
    "    stock_1 = df['CTSH'].values.reshape(-1, 1)\n",
    "    stock_2 = df['SIRI'].values.reshape(-1, 1)  # Target variable\n",
    "    correlation = df['correlation'].values.reshape(-1, 1)\n",
    "\n",
    "    # Normalize the features (stock_1 and correlation) and the target (stock_2)\n",
    "    scaler_features = StandardScaler()\n",
    "    scaler_target = StandardScaler()\n",
    "\n",
    "    # Stack features (stock_1 and correlation) together and normalize\n",
    "    features = np.hstack([stock_1, correlation])\n",
    "    normalized_features = scaler_features.fit_transform(features)\n",
    "\n",
    "    # Normalize the target (stock_2)\n",
    "    normalized_target = scaler_target.fit_transform(stock_2)\n",
    "\n",
    "    # Split the data into training and test sets\n",
    "    num_samples = len(df)\n",
    "    train_size = int(split_fraction * num_samples)\n",
    "\n",
    "    # Create TimeseriesGenerator instances for train and test sets\n",
    "    train_dataset = TimeseriesGenerator(\n",
    "        data=normalized_features[:train_size],\n",
    "        targets=normalized_target[:train_size],\n",
    "        length=input_sequence_length,\n",
    "        batch_size=batch_size,\n",
    "    )\n",
    "\n",
    "    test_dataset = TimeseriesGenerator(\n",
    "        data=normalized_features[train_size:],\n",
    "        targets=normalized_target[train_size:],\n",
    "        length=input_sequence_length,\n",
    "        batch_size=batch_size,\n",
    "    )\n",
    "\n",
    "    return train_dataset, test_dataset, scaler_features, scaler_target\n"
   ]
  },
  {
   "cell_type": "code",
   "execution_count": 5,
   "metadata": {},
   "outputs": [],
   "source": [
    "\n",
    "def lstm_model(train_dataset, scaler):\n",
    "    \"\"\"\n",
    "    Builds, trains, and prepares an LSTM model using the training data.\n",
    "\n",
    "    Parameters:\n",
    "        train_dataset: TimeseriesGenerator providing the input and target data.\n",
    "        scaler: StandardScaler used for normalizing the target data.\n",
    "\n",
    "    Returns:\n",
    "        model (Sequential): Trained LSTM model.\n",
    "        inverse_transform_predictions (function): Function to inverse transform predictions.\n",
    "    \"\"\"\n",
    "    # Infer input shape from the TimeseriesGenerator\n",
    "    input_shape = train_dataset[0][0].shape[1:]  # (sequence_length, number_of_features)\n",
    "\n",
    "    # Build the LSTM model\n",
    "    model = Sequential()\n",
    "    # 1st Layer\n",
    "    model.add(LSTM(units=64, activation='relu', return_sequences=True, input_shape=input_shape))\n",
    "    model.add(Dropout(0.3))  # Increased dropout to avoid overfitting\n",
    "    # 2nd Layer\n",
    "    model.add(LSTM(units=64, activation='relu', return_sequences=False))\n",
    "    model.add(Dropout(0.3))\n",
    "\n",
    "    # Output Layer\n",
    "    model.add(Dense(units=1))  # Single output value\n",
    "\n",
    "    # Compile the model with a lower learning rate\n",
    "    optimizer = Adam(learning_rate=0.0001)\n",
    "    model.compile(optimizer=optimizer, loss='mean_squared_error')\n",
    "\n",
    "    # Define EarlyStopping callback\n",
    "    early_stopping = EarlyStopping(\n",
    "        monitor='loss',  # Monitor training loss\n",
    "        patience=3,  # Stop training after 3 epochs with no improvement\n",
    "        restore_best_weights=True  # Restore the best weights after stopping\n",
    "    )\n",
    "\n",
    "    # Train the model using the TimeseriesGenerator\n",
    "    model.fit(train_dataset, epochs=20, callbacks=[early_stopping], verbose=1)\n",
    "\n",
    "    # Define a helper function for inverse transformation\n",
    "    def inverse_transform_predictions(predictions):\n",
    "        return scaler.inverse_transform(predictions.reshape(-1, 1))\n",
    "\n",
    "    return model, inverse_transform_predictions\n"
   ]
  },
  {
   "cell_type": "code",
   "execution_count": 6,
   "metadata": {},
   "outputs": [],
   "source": [
    "\n",
    "\n",
    "def evaluate_and_plot(model, test_dataset, inverse_transform, scaler_target):\n",
    "    \"\"\"\n",
    "    Make predictions, compute metrics, and plot the predicted vs. actual values.\n",
    "    \n",
    "    Parameters:\n",
    "        model: Trained LSTM model.\n",
    "        test_dataset: TimeseriesGenerator providing the test data.\n",
    "        inverse_transform: Function to inverse-transform predictions.\n",
    "        scaler_target: StandardScaler used for normalizing the target data.\n",
    "        \n",
    "    Returns:\n",
    "        None\n",
    "    \"\"\"\n",
    "    # Get the true target values and model predictions\n",
    "    actuals = []\n",
    "    predictions = []\n",
    "    \n",
    "    for i in range(len(test_dataset)):\n",
    "        x_batch, y_batch = test_dataset[i]\n",
    "        pred_batch = model.predict(x_batch, verbose=0)\n",
    "        predictions.append(pred_batch)\n",
    "        actuals.append(y_batch)\n",
    "    \n",
    "    # Concatenate all batches\n",
    "    predictions = np.vstack(predictions)\n",
    "    actuals = np.vstack(actuals)\n",
    "\n",
    "    # Inverse transform to get values back to the original scale\n",
    "    predictions_original = inverse_transform(predictions)\n",
    "    actuals_original = scaler_target.inverse_transform(actuals)\n",
    "\n",
    "    # Compute metrics\n",
    "    mse = mean_squared_error(actuals_original, predictions_original)\n",
    "    mae = mean_absolute_error(actuals_original, predictions_original)\n",
    "    r2 = r2_score(actuals_original, predictions_original)\n",
    "\n",
    "    print(f\"Mean Squared Error (MSE): {mse:.4f}\")\n",
    "    print(f\"Mean Absolute Error (MAE): {mae:.4f}\")\n",
    "    print(f\"R-Squared (R²): {r2:.4f}\")\n",
    "\n",
    "    # Plot actual vs predicted\n",
    "    plt.figure(figsize=(12, 6))\n",
    "    plt.plot(actuals_original, label=\"Actual Stock 2 Prices\", color='blue')\n",
    "    plt.plot(predictions_original, label=\"Predicted Stock 2 Prices\", color='orange', linestyle='dashed')\n",
    "    plt.title(\"Actual vs Predicted Stock 2 Prices\")\n",
    "    plt.xlabel(\"Time Steps\")\n",
    "    plt.ylabel(\"Stock 2 Price\")\n",
    "    plt.legend()\n",
    "    plt.show()\n"
   ]
  },
  {
   "cell_type": "code",
   "execution_count": 7,
   "metadata": {},
   "outputs": [
    {
     "data": {
      "text/plain": [
       "<bound method DataFrame.info of                       CTSH  correlation    SIRI\n",
       "2024-02-26 09:45:00  78.93          NaN  4.5735\n",
       "2024-02-26 09:46:00  78.93          NaN  4.5735\n",
       "2024-02-26 09:47:00  78.93          NaN  4.5735\n",
       "2024-02-26 09:48:00  78.93          NaN  4.5735\n",
       "2024-02-26 09:49:00  78.93          NaN  4.5735\n",
       "...                    ...          ...     ...\n",
       "2024-04-08 15:34:00  67.83          1.0  3.1800\n",
       "2024-04-08 15:24:00  67.83          1.0  3.1800\n",
       "2024-04-08 15:21:00  67.83          1.0  3.1800\n",
       "2024-02-26 15:27:00  67.83          1.0  3.1800\n",
       "2024-02-26 15:25:00  67.83          1.0  3.1800\n",
       "\n",
       "[17432 rows x 3 columns]>"
      ]
     },
     "execution_count": 7,
     "metadata": {},
     "output_type": "execute_result"
    }
   ],
   "source": [
    "df.info"
   ]
  },
  {
   "cell_type": "code",
   "execution_count": 6,
   "metadata": {},
   "outputs": [
    {
     "name": "stdout",
     "output_type": "stream",
     "text": [
      "CTSH             0\n",
      "correlation    331\n",
      "SIRI             0\n",
      "dtype: int64\n",
      "CTSH             0\n",
      "correlation    320\n",
      "SIRI             0\n",
      "dtype: int64\n",
      "CTSH           0\n",
      "correlation    0\n",
      "SIRI           0\n",
      "dtype: int64\n",
      "CTSH           0\n",
      "correlation    0\n",
      "SIRI           0\n",
      "dtype: int64\n"
     ]
    },
    {
     "name": "stderr",
     "output_type": "stream",
     "text": [
      "C:\\Users\\giuli\\AppData\\Local\\Temp\\ipykernel_12312\\1746365459.py:2: FutureWarning: DataFrame.applymap has been deprecated. Use DataFrame.map instead.\n",
      "  print(df[~df.applymap(np.isfinite)].count())  # Check infinite values\n",
      "C:\\Users\\giuli\\AppData\\Local\\Temp\\ipykernel_12312\\1746365459.py:9: FutureWarning: DataFrame.applymap has been deprecated. Use DataFrame.map instead.\n",
      "  print(df[~df.applymap(np.isfinite)].count())  # Check infinite values\n"
     ]
    }
   ],
   "source": [
    "\n",
    "print(df.isna().sum())  # Check missing values per column\n",
    "print(df[~df.applymap(np.isfinite)].count())  # Check infinite values\n",
    "\n",
    "df.fillna(0, inplace=True)  # Replace NaN values with zero\n",
    "df.replace([np.inf, -np.inf], 0, inplace=True)  # Replace infinite values with zero\n",
    "\n",
    "\n",
    "print(df.isna().sum())  # Check missing values per column\n",
    "print(df[~df.applymap(np.isfinite)].count())  # Check infinite values"
   ]
  },
  {
   "cell_type": "code",
   "execution_count": 17,
   "metadata": {},
   "outputs": [],
   "source": [
    "# Step 1: Prepare Data\n",
    "train_dataset, test_dataset, scaler_features, scaler_target = prepare_lstm_data(\n",
    "    df, input_sequence_length=60, batch_size=32, split_fraction=0.7\n",
    ")\n",
    "\n"
   ]
  },
  {
   "cell_type": "code",
   "execution_count": 18,
   "metadata": {},
   "outputs": [
    {
     "name": "stdout",
     "output_type": "stream",
     "text": [
      "Epoch 1/20\n"
     ]
    },
    {
     "name": "stderr",
     "output_type": "stream",
     "text": [
      "c:\\Users\\giuli\\Repositories\\nasdaq_causal-analysis_lstm\\venv_12\\Lib\\site-packages\\keras\\src\\layers\\rnn\\rnn.py:200: UserWarning: Do not pass an `input_shape`/`input_dim` argument to a layer. When using Sequential models, prefer using an `Input(shape)` object as the first layer in the model instead.\n",
      "  super().__init__(**kwargs)\n",
      "c:\\Users\\giuli\\Repositories\\nasdaq_causal-analysis_lstm\\venv_12\\Lib\\site-packages\\keras\\src\\trainers\\data_adapters\\py_dataset_adapter.py:121: UserWarning: Your `PyDataset` class should call `super().__init__(**kwargs)` in its constructor. `**kwargs` can include `workers`, `use_multiprocessing`, `max_queue_size`. Do not pass these arguments to `fit()`, as they will be ignored.\n",
      "  self._warn_if_super_not_called()\n"
     ]
    },
    {
     "name": "stdout",
     "output_type": "stream",
     "text": [
      "\u001b[1m380/380\u001b[0m \u001b[32m━━━━━━━━━━━━━━━━━━━━\u001b[0m\u001b[37m\u001b[0m \u001b[1m15s\u001b[0m 31ms/step - loss: 0.6142\n",
      "Epoch 2/20\n",
      "\u001b[1m380/380\u001b[0m \u001b[32m━━━━━━━━━━━━━━━━━━━━\u001b[0m\u001b[37m\u001b[0m \u001b[1m12s\u001b[0m 33ms/step - loss: 0.0986\n",
      "Epoch 3/20\n",
      "\u001b[1m380/380\u001b[0m \u001b[32m━━━━━━━━━━━━━━━━━━━━\u001b[0m\u001b[37m\u001b[0m \u001b[1m15s\u001b[0m 39ms/step - loss: 0.0822\n",
      "Epoch 4/20\n",
      "\u001b[1m380/380\u001b[0m \u001b[32m━━━━━━━━━━━━━━━━━━━━\u001b[0m\u001b[37m\u001b[0m \u001b[1m15s\u001b[0m 38ms/step - loss: 0.0716\n",
      "Epoch 5/20\n",
      "\u001b[1m380/380\u001b[0m \u001b[32m━━━━━━━━━━━━━━━━━━━━\u001b[0m\u001b[37m\u001b[0m \u001b[1m15s\u001b[0m 39ms/step - loss: 0.0721\n",
      "Epoch 6/20\n",
      "\u001b[1m380/380\u001b[0m \u001b[32m━━━━━━━━━━━━━━━━━━━━\u001b[0m\u001b[37m\u001b[0m \u001b[1m15s\u001b[0m 39ms/step - loss: 0.0634\n",
      "Epoch 7/20\n",
      "\u001b[1m380/380\u001b[0m \u001b[32m━━━━━━━━━━━━━━━━━━━━\u001b[0m\u001b[37m\u001b[0m \u001b[1m15s\u001b[0m 40ms/step - loss: 0.0636\n",
      "Epoch 8/20\n",
      "\u001b[1m380/380\u001b[0m \u001b[32m━━━━━━━━━━━━━━━━━━━━\u001b[0m\u001b[37m\u001b[0m \u001b[1m17s\u001b[0m 43ms/step - loss: 0.0624\n",
      "Epoch 9/20\n",
      "\u001b[1m380/380\u001b[0m \u001b[32m━━━━━━━━━━━━━━━━━━━━\u001b[0m\u001b[37m\u001b[0m \u001b[1m16s\u001b[0m 43ms/step - loss: 0.0641\n",
      "Epoch 10/20\n",
      "\u001b[1m380/380\u001b[0m \u001b[32m━━━━━━━━━━━━━━━━━━━━\u001b[0m\u001b[37m\u001b[0m \u001b[1m16s\u001b[0m 43ms/step - loss: 0.0573\n",
      "Epoch 11/20\n",
      "\u001b[1m380/380\u001b[0m \u001b[32m━━━━━━━━━━━━━━━━━━━━\u001b[0m\u001b[37m\u001b[0m \u001b[1m17s\u001b[0m 44ms/step - loss: 0.0655\n",
      "Epoch 12/20\n",
      "\u001b[1m380/380\u001b[0m \u001b[32m━━━━━━━━━━━━━━━━━━━━\u001b[0m\u001b[37m\u001b[0m \u001b[1m17s\u001b[0m 44ms/step - loss: 0.0591\n",
      "Epoch 13/20\n",
      "\u001b[1m380/380\u001b[0m \u001b[32m━━━━━━━━━━━━━━━━━━━━\u001b[0m\u001b[37m\u001b[0m \u001b[1m18s\u001b[0m 46ms/step - loss: 0.0522\n",
      "Epoch 14/20\n",
      "\u001b[1m380/380\u001b[0m \u001b[32m━━━━━━━━━━━━━━━━━━━━\u001b[0m\u001b[37m\u001b[0m \u001b[1m18s\u001b[0m 47ms/step - loss: 0.0503\n",
      "Epoch 15/20\n",
      "\u001b[1m380/380\u001b[0m \u001b[32m━━━━━━━━━━━━━━━━━━━━\u001b[0m\u001b[37m\u001b[0m \u001b[1m18s\u001b[0m 48ms/step - loss: 0.0512\n",
      "Epoch 16/20\n",
      "\u001b[1m380/380\u001b[0m \u001b[32m━━━━━━━━━━━━━━━━━━━━\u001b[0m\u001b[37m\u001b[0m \u001b[1m18s\u001b[0m 47ms/step - loss: 0.0558\n",
      "Epoch 17/20\n",
      "\u001b[1m380/380\u001b[0m \u001b[32m━━━━━━━━━━━━━━━━━━━━\u001b[0m\u001b[37m\u001b[0m \u001b[1m17s\u001b[0m 46ms/step - loss: 0.0523\n"
     ]
    }
   ],
   "source": [
    "# Step 2: Build and Train Model\n",
    "model, inverse_transform = lstm_model(train_dataset, scaler_target)\n"
   ]
  },
  {
   "cell_type": "code",
   "execution_count": null,
   "metadata": {},
   "outputs": [],
   "source": [
    "\n",
    "\n",
    "# Save the model using pickle\n",
    "def save_model_with_pickle(model, filename):\n",
    "    # Serialize the model architecture and weights separately\n",
    "    model_json = model.to_json()  # Convert model architecture to JSON\n",
    "    model_weights = model.get_weights()  # Get model weights\n",
    "\n",
    "    # Save the model architecture and weights to a pickle file\n",
    "    with open(filename, 'wb') as f:\n",
    "        pickle.dump({'model_json': model_json, 'model_weights': model_weights}, f)\n",
    "\n",
    "# Example usage:\n",
    "save_model_with_pickle(model, 'lstm_model_250425.pkl')\n"
   ]
  },
  {
   "cell_type": "code",
   "execution_count": 19,
   "metadata": {},
   "outputs": [
    {
     "name": "stdout",
     "output_type": "stream",
     "text": [
      "Mean Squared Error (MSE): 0.0102\n",
      "Mean Absolute Error (MAE): 0.0580\n",
      "R-Squared (R²): 0.9444\n"
     ]
    },
    {
     "data": {
      "image/png": "[encoded data removed]",
      "text/plain": [
       "<Figure size 1200x600 with 1 Axes>"
      ]
     },
     "metadata": {},
     "output_type": "display_data"
    }
   ],
   "source": [
    "\n",
    "# Step 3: Evaluate and Plot\n",
    "evaluate_and_plot(model, test_dataset, inverse_transform, scaler_target)"
   ]
  }
 ],
 "metadata": {
  "kernelspec": {
   "display_name": "venv_12",
   "language": "python",
   "name": "python3"
  },
  "language_info": {
   "codemirror_mode": {
    "name": "ipython",
    "version": 3
   },
   "file_extension": ".py",
   "mimetype": "text/x-python",
   "name": "python",
   "nbconvert_exporter": "python",
   "pygments_lexer": "ipython3",
   "version": "3.12.9"
  }
 },
 "nbformat": 4,
 "nbformat_minor": 2
}
