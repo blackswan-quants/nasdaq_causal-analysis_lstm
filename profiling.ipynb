{
 "cells": [
  {
   "cell_type": "code",
   "execution_count": 7,
   "metadata": {},
   "outputs": [
    {
     "name": "stderr",
     "output_type": "stream",
     "text": [
      "Summarize dataset: 100%|██████████| 10110/10110 [15:25<00:00, 10.92it/s, Completed]               \n",
      "Generate report structure: 100%|██████████| 1/1 [00:27<00:00, 27.89s/it]\n",
      "Render HTML: 100%|██████████| 1/1 [03:10<00:00, 190.43s/it]\n"
     ]
    }
   ],
   "source": [
    "import pandas as pd \n",
    "from ydata_profiling import ProfileReport\n",
    "import pickle\n",
    "\n",
    "import pickle\n",
    "\n",
    "def load_stocks_prices(filename):\n",
    "    with open(filename, \"rb\") as f:\n",
    "        obj = pickle.load(f)\n",
    "    return obj\n",
    "stocks = load_stocks_prices('./pickle_files/cleaned_nasdaq_dataframe.pkl')\n",
    "profile = ProfileReport(stocks, title=\"Profiling Report\")\n",
    "profile\n"
   ]
  },
  {
   "cell_type": "code",
   "execution_count": null,
   "metadata": {},
   "outputs": [],
   "source": [
    "profile"
   ]
  }
 ],
 "metadata": {
  "kernelspec": {
   "display_name": "venv",
   "language": "python",
   "name": "python3"
  },
  "language_info": {
   "codemirror_mode": {
    "name": "ipython",
    "version": 3
   },
   "file_extension": ".py",
   "mimetype": "text/x-python",
   "name": "python",
   "nbconvert_exporter": "python",
   "pygments_lexer": "ipython3",
   "version": "3.11.8"
  }
 },
 "nbformat": 4,
 "nbformat_minor": 2
}
