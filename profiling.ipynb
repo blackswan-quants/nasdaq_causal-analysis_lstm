{
 "cells": [
  {
   "cell_type": "code",
   "execution_count": null,
   "metadata": {},
   "outputs": [],
   "source": [
    "import pandas as pd \n",
    "from ydata_profiling import ProfileReport\n",
    "import pickle\n",
    "\n",
    "import pickle\n",
    "\n",
    "def load_stocks_prices(filename):\n",
    "    with open(filename, \"rb\") as f:\n",
    "        obj = pickle.load(f)\n",
    "    return obj\n",
    "stocks = load_stocks_prices('./pickle_files/correlatedstocks.pkl')\n",
    "profile = ProfileReport(stocks, title=\"Profiling Report\")\n",
    "profile\n"
   ]
  },
  {
   "cell_type": "code",
   "execution_count": null,
   "metadata": {},
   "outputs": [],
   "source": [
    "profile"
   ]
  }
 ],
 "metadata": {
  "kernelspec": {
   "display_name": "venv",
   "language": "python",
   "name": "python3"
  },
  "language_info": {
   "codemirror_mode": {
    "name": "ipython",
    "version": 3
   },
   "file_extension": ".py",
   "mimetype": "text/x-python",
   "name": "python",
   "nbconvert_exporter": "python",
   "pygments_lexer": "ipython3",
   "version": "3.11.8"
  }
 },
 "nbformat": 4,
 "nbformat_minor": 2
}
